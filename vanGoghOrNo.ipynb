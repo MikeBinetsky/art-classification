{
 "cells": [
  {
   "cell_type": "code",
   "execution_count": null,
   "metadata": {
    "id": "bezzeNobKA-5"
   },
   "outputs": [],
   "source": [
    "# !pip install tensorflow"
   ]
  },
  {
   "cell_type": "code",
   "execution_count": 44,
   "metadata": {
    "colab": {
     "base_uri": "https://localhost:8080/"
    },
    "id": "cEuF38HWLkoI",
    "outputId": "7f8dbd69-42bc-4a54-d7a4-33e6f2afc8ed"
   },
   "outputs": [
    {
     "name": "stdout",
     "output_type": "stream",
     "text": [
      "Drive already mounted at /content/gdrive; to attempt to forcibly remount, call drive.mount(\"/content/gdrive\", force_remount=True).\n"
     ]
    }
   ],
   "source": [
    "# from google.colab import drive\n",
    "# drive.mount('/content/gdrive')"
   ]
  },
  {
   "cell_type": "code",
   "execution_count": 2,
   "metadata": {
    "id": "w-C1qTWnGQg9"
   },
   "outputs": [],
   "source": [
    "import pandas as pd\n",
    "import numpy as np\n",
    "import os\n",
    "import tensorflow as tf\n",
    "from tensorflow import keras\n",
    "from tensorflow.keras import layers\n",
    "from tensorflow.keras.models import Sequential, Model\n",
    "from  matplotlib import pyplot as plt\n",
    "import matplotlib.image as mpimg\n",
    "%matplotlib inline\n",
    "#from google.colab import files\n",
    "import random\n",
    "from skimage.transform import rescale, resize, downscale_local_mean\n",
    "from skimage import transform, data, exposure, img_as_float\n",
    "from tensorflow.keras.layers.experimental import preprocessing"
   ]
  },
  {
   "cell_type": "code",
   "execution_count": 3,
   "metadata": {
    "id": "C8-s0BrCf8oc"
   },
   "outputs": [],
   "source": [
    "trainingPath = \"Images_complete/\"\n",
    "pictureList = []\n",
    "className = []\n",
    "image_path= os.listdir(trainingPath)\n",
    "for i in image_path:\n",
    "  image = mpimg.imread(trainingPath + i)\n",
    "  image = resize(image, (299, 299), anti_aliasing=True)\n",
    "  pictureList.append(image)\n",
    "  if \"gogh\" in i:\n",
    "    className.append(1)\n",
    "    imageUPDATE = image\n",
    "    imageGamma = exposure.adjust_gamma(imageUPDATE, 2)\n",
    "    pictureList.append(imageGamma)\n",
    "    className.append(1)\n",
    "    for i in range(0, 3):\n",
    "      if i == 0:\n",
    "        imageUPDATE = transform.rotate(image, 90, resize = False)\n",
    "        pictureList.append(imageUPDATE)\n",
    "        className.append(1)\n",
    "        imageGamma = exposure.adjust_gamma(imageUPDATE, 2)\n",
    "        pictureList.append(imageGamma)\n",
    "        className.append(1)\n",
    "      elif i == 1:\n",
    "        imageUPDATE = transform.rotate(image, 180, resize = False)\n",
    "        pictureList.append(imageUPDATE)\n",
    "        className.append(1)\n",
    "        imageGamma = exposure.adjust_gamma(image, 2)\n",
    "        pictureList.append(imageGamma)\n",
    "        className.append(1)\n",
    "      elif i == 2:\n",
    "        imageUPDATE = transform.rotate(image, 270, resize = False)\n",
    "        pictureList.append(imageUPDATE)\n",
    "        className.append(1)   \n",
    "        imageGamma = exposure.adjust_gamma(image, 2)\n",
    "        pictureList.append(imageGamma)\n",
    "        className.append(1)   \n",
    "      elif i == 3:\n",
    "        imageUPDATE = transform.rotate(image, 270, resize = False)\n",
    "        pictureList.append(imageUPDATE)\n",
    "        className.append(1) \n",
    "        imageGamma = exposure.adjust_gamma(image, 2)\n",
    "        pictureList.append(imageGamma)\n",
    "        className.append(1)\n",
    "  else:\n",
    "    className.append(0)\n",
    "    imageGamma = exposure.adjust_gamma(imageUPDATE, 2)\n",
    "    pictureList.append(imageGamma)\n",
    "    className.append(0)\n",
    "    if i == 0:\n",
    "      imageUPDATE = transform.rotate(image, 90, resize = False)\n",
    "      pictureList.append(imageUPDATE)\n",
    "      className.append(0)\n",
    "      imageGamma = exposure.adjust_gamma(image, 2)\n",
    "      pictureList.append(imageGamma)\n",
    "      className.append(0)\n",
    "    elif i == 1:\n",
    "      imageUPDATE = transform.rotate(image, 180, resize = False)\n",
    "      pictureList.append(imageUPDATE)\n",
    "      className.append(0)\n",
    "      imageGamma = exposure.adjust_gamma(image, 2)\n",
    "      pictureList.append(imageGamma)\n",
    "      className.append(0)\n",
    "    elif i == 2:\n",
    "      imageUPDATE = transform.rotate(image, 270, resize = False)\n",
    "      pictureList.append(imageUPDATE)\n",
    "      className.append(0) \n",
    "      imageGamma = exposure.adjust_gamma(image, 2)\n",
    "      pictureList.append(imageGamma)\n",
    "      className.append(0)   \n",
    "    elif i == 3:\n",
    "      imageUPDATE = transform.rotate(image, 270, resize = False)\n",
    "      pictureList.append(imageUPDATE)\n",
    "      className.append(0) \n",
    "      imageGamma = exposure.adjust_gamma(image, 2)\n",
    "      pictureList.append(imageGamma)\n",
    "      className.append(0)"
   ]
  },
  {
   "cell_type": "code",
   "execution_count": 11,
   "metadata": {},
   "outputs": [],
   "source": [
    "totalDF = pd.DataFrame([pictureList, className])\n",
    "totalDF = totalDF.transpose()\n",
    "totalDF = totalDF.rename(columns = {0: \"Image\", 1 : \"vanGoghOrNo\"})"
   ]
  },
  {
   "cell_type": "code",
   "execution_count": 12,
   "metadata": {},
   "outputs": [
    {
     "data": {
      "text/html": [
       "<div>\n",
       "<style scoped>\n",
       "    .dataframe tbody tr th:only-of-type {\n",
       "        vertical-align: middle;\n",
       "    }\n",
       "\n",
       "    .dataframe tbody tr th {\n",
       "        vertical-align: top;\n",
       "    }\n",
       "\n",
       "    .dataframe thead th {\n",
       "        text-align: right;\n",
       "    }\n",
       "</style>\n",
       "<table border=\"1\" class=\"dataframe\">\n",
       "  <thead>\n",
       "    <tr style=\"text-align: right;\">\n",
       "      <th></th>\n",
       "      <th>Image</th>\n",
       "      <th>vanGoghOrNo</th>\n",
       "    </tr>\n",
       "  </thead>\n",
       "  <tbody>\n",
       "    <tr>\n",
       "      <th>0</th>\n",
       "      <td>[[[0.3691833073762607, 0.5382910354777362, 0.4...</td>\n",
       "      <td>1</td>\n",
       "    </tr>\n",
       "    <tr>\n",
       "      <th>1</th>\n",
       "      <td>[[[0.1362963144452746, 0.2897572388756934, 0.2...</td>\n",
       "      <td>1</td>\n",
       "    </tr>\n",
       "  </tbody>\n",
       "</table>\n",
       "</div>"
      ],
      "text/plain": [
       "                                               Image vanGoghOrNo\n",
       "0  [[[0.3691833073762607, 0.5382910354777362, 0.4...           1\n",
       "1  [[[0.1362963144452746, 0.2897572388756934, 0.2...           1"
      ]
     },
     "execution_count": 12,
     "metadata": {},
     "output_type": "execute_result"
    }
   ],
   "source": [
    "totalDF.head(2)"
   ]
  },
  {
   "cell_type": "code",
   "execution_count": 17,
   "metadata": {},
   "outputs": [],
   "source": [
    "test = totalDF.sample(frac = 0.15, random_state=1)\n",
    "train = totalDF.drop(test.index)"
   ]
  },
  {
   "cell_type": "code",
   "execution_count": 18,
   "metadata": {},
   "outputs": [],
   "source": [
    "X_train = train[\"Image\"]\n",
    "y_train = train[\"vanGoghOrNo\"]\n",
    "X_test = test[\"Image\"]\n",
    "y_test = test[\"vanGoghOrNo\"]"
   ]
  },
  {
   "cell_type": "code",
   "execution_count": 4,
   "metadata": {
    "id": "wdLjccd8iRy3"
   },
   "outputs": [],
   "source": [
    "className = np.array(className)\n",
    "pictureList = np.array([i / 255 for i in pictureList])"
   ]
  },
  {
   "cell_type": "code",
   "execution_count": 5,
   "metadata": {
    "collapsed": true,
    "id": "yIQHX4Q5YmoC",
    "jupyter": {
     "outputs_hidden": true
    }
   },
   "outputs": [
    {
     "name": "stdout",
     "output_type": "stream",
     "text": [
      "Downloading data from https://storage.googleapis.com/tensorflow/keras-applications/inception_v3/inception_v3_weights_tf_dim_ordering_tf_kernels.h5\n",
      "96116736/96112376 [==============================] - 6s 0us/step\n",
      "96124928/96112376 [==============================] - 6s 0us/step\n"
     ]
    }
   ],
   "source": [
    "# pretrained_base = tf.keras.applications.inception_v3.InceptionV3(\n",
    "#     include_top=True, weights='imagenet', input_tensor=None,\n",
    "#     input_shape=(299, 299, 3), pooling=None, classes=1000,\n",
    "#     classifier_activation='softmax'\n",
    "# )"
   ]
  },
  {
   "cell_type": "code",
   "execution_count": 51,
   "metadata": {
    "id": "dFX7vs04mDkn"
   },
   "outputs": [],
   "source": [
    "# pretrained_base.trainable = False"
   ]
  },
  {
   "cell_type": "code",
   "execution_count": 53,
   "metadata": {
    "id": "eAWKq8komLcU"
   },
   "outputs": [],
   "source": [
    "# newModel = keras.Sequential([\n",
    "#     preprocessing.RandomFlip('horizontal'),\n",
    "#     preprocessing.RandomContrast(0.5),\n",
    "#     pretrained_base,\n",
    "#     layers.Flatten(),\n",
    "#     layers.Dense(units=8, activation='relu'),\n",
    "#     layers.Dense(units=1, activation='sigmoid')\n",
    "# ])"
   ]
  },
  {
   "cell_type": "code",
   "execution_count": 54,
   "metadata": {
    "id": "pO7uUmM9mj8-"
   },
   "outputs": [],
   "source": [
    "# optimizer = tf.keras.optimizers.Adam(epsilon=0.01)\n",
    "# newModel.compile(\n",
    "#     optimizer=optimizer,\n",
    "#     loss = 'binary_crossentropy',\n",
    "#     metrics=['binary_accuracy'],\n",
    "# )"
   ]
  },
  {
   "cell_type": "code",
   "execution_count": 55,
   "metadata": {
    "colab": {
     "base_uri": "https://localhost:8080/"
    },
    "collapsed": true,
    "id": "9EHNj7AemmcM",
    "jupyter": {
     "outputs_hidden": true
    },
    "outputId": "cf6cccc2-f867-41aa-8ef1-65b5e9c35bf8"
   },
   "outputs": [
    {
     "name": "stdout",
     "output_type": "stream",
     "text": [
      "Epoch 1/30\n",
      "2/2 [==============================] - 14s 3s/step - loss: 0.6926 - binary_accuracy: 0.7400\n",
      "Epoch 2/30\n",
      "2/2 [==============================] - 9s 3s/step - loss: 0.6921 - binary_accuracy: 0.7400\n",
      "Epoch 3/30\n",
      "2/2 [==============================] - 9s 3s/step - loss: 0.6918 - binary_accuracy: 0.7400\n",
      "Epoch 4/30\n",
      "2/2 [==============================] - 9s 3s/step - loss: 0.6913 - binary_accuracy: 0.7400\n",
      "Epoch 5/30\n",
      "2/2 [==============================] - 9s 3s/step - loss: 0.6907 - binary_accuracy: 0.7400\n",
      "Epoch 6/30\n",
      "2/2 [==============================] - 9s 3s/step - loss: 0.6901 - binary_accuracy: 0.7400\n",
      "Epoch 7/30\n",
      "2/2 [==============================] - 9s 3s/step - loss: 0.6894 - binary_accuracy: 0.7400\n",
      "Epoch 8/30\n",
      "2/2 [==============================] - 9s 3s/step - loss: 0.6887 - binary_accuracy: 0.7400\n",
      "Epoch 9/30\n",
      "2/2 [==============================] - 9s 3s/step - loss: 0.6880 - binary_accuracy: 0.7400\n",
      "Epoch 10/30\n",
      "2/2 [==============================] - 9s 3s/step - loss: 0.6873 - binary_accuracy: 0.7400\n",
      "Epoch 11/30\n",
      "2/2 [==============================] - 9s 3s/step - loss: 0.6866 - binary_accuracy: 0.7400\n",
      "Epoch 12/30\n",
      "2/2 [==============================] - 9s 3s/step - loss: 0.6858 - binary_accuracy: 0.7400\n",
      "Epoch 13/30\n",
      "2/2 [==============================] - 9s 3s/step - loss: 0.6851 - binary_accuracy: 0.7400\n",
      "Epoch 14/30\n",
      "2/2 [==============================] - 9s 3s/step - loss: 0.6843 - binary_accuracy: 0.7400\n",
      "Epoch 15/30\n",
      "2/2 [==============================] - 9s 3s/step - loss: 0.6835 - binary_accuracy: 0.7400\n",
      "Epoch 16/30\n",
      "2/2 [==============================] - 9s 3s/step - loss: 0.6827 - binary_accuracy: 0.7400\n",
      "Epoch 17/30\n",
      "2/2 [==============================] - 9s 3s/step - loss: 0.6820 - binary_accuracy: 0.7400\n",
      "Epoch 18/30\n",
      "2/2 [==============================] - 9s 3s/step - loss: 0.6812 - binary_accuracy: 0.7400\n",
      "Epoch 19/30\n",
      "2/2 [==============================] - 9s 3s/step - loss: 0.6804 - binary_accuracy: 0.7400\n",
      "Epoch 20/30\n",
      "2/2 [==============================] - 9s 3s/step - loss: 0.6796 - binary_accuracy: 0.7400\n",
      "Epoch 21/30\n",
      "2/2 [==============================] - 9s 3s/step - loss: 0.6788 - binary_accuracy: 0.7400\n",
      "Epoch 22/30\n",
      "2/2 [==============================] - 9s 3s/step - loss: 0.6781 - binary_accuracy: 0.7400\n",
      "Epoch 23/30\n",
      "2/2 [==============================] - 9s 3s/step - loss: 0.6773 - binary_accuracy: 0.7400\n",
      "Epoch 24/30\n",
      "2/2 [==============================] - 9s 3s/step - loss: 0.6765 - binary_accuracy: 0.7400\n",
      "Epoch 25/30\n",
      "2/2 [==============================] - 9s 3s/step - loss: 0.6757 - binary_accuracy: 0.7400\n",
      "Epoch 26/30\n",
      "2/2 [==============================] - 9s 3s/step - loss: 0.6749 - binary_accuracy: 0.7400\n",
      "Epoch 27/30\n",
      "2/2 [==============================] - 9s 3s/step - loss: 0.6742 - binary_accuracy: 0.7400\n",
      "Epoch 28/30\n",
      "2/2 [==============================] - 9s 3s/step - loss: 0.6734 - binary_accuracy: 0.7400\n",
      "Epoch 29/30\n",
      "2/2 [==============================] - 9s 3s/step - loss: 0.6727 - binary_accuracy: 0.7400\n",
      "Epoch 30/30\n",
      "2/2 [==============================] - 9s 3s/step - loss: 0.6719 - binary_accuracy: 0.7400\n"
     ]
    }
   ],
   "source": [
    "# history = newModel.fit(pictureList, className, epochs=30)"
   ]
  },
  {
   "cell_type": "code",
   "execution_count": 9,
   "metadata": {},
   "outputs": [
    {
     "name": "stdout",
     "output_type": "stream",
     "text": [
      "Model: \"sequential_1\"\n",
      "_________________________________________________________________\n",
      " Layer (type)                Output Shape              Param #   \n",
      "=================================================================\n",
      " conv2d_97 (Conv2D)          (None, 297, 297, 299)     8372      \n",
      "                                                                 \n",
      " max_pooling2d_6 (MaxPooling  (None, 148, 148, 299)    0         \n",
      " 2D)                                                             \n",
      "                                                                 \n",
      " conv2d_98 (Conv2D)          (None, 146, 146, 598)     1609816   \n",
      "                                                                 \n",
      " max_pooling2d_7 (MaxPooling  (None, 73, 73, 598)      0         \n",
      " 2D)                                                             \n",
      "                                                                 \n",
      " conv2d_99 (Conv2D)          (None, 71, 71, 598)       3219034   \n",
      "                                                                 \n",
      " flatten_1 (Flatten)         (None, 3014518)           0         \n",
      "                                                                 \n",
      " dense_2 (Dense)             (None, 64)                192929216 \n",
      "                                                                 \n",
      " dense_3 (Dense)             (None, 64)                4160      \n",
      "                                                                 \n",
      " dense_4 (Dense)             (None, 1)                 65        \n",
      "                                                                 \n",
      "=================================================================\n",
      "Total params: 197,770,663\n",
      "Trainable params: 197,770,663\n",
      "Non-trainable params: 0\n",
      "_________________________________________________________________\n"
     ]
    }
   ],
   "source": [
    "from tensorflow.keras import models\n",
    "conmodel = models.Sequential()\n",
    "conmodel.add(layers.Conv2D(299, (3, 3), activation='relu', input_shape=(299, 299, 3)))\n",
    "conmodel.add(layers.MaxPooling2D((2, 2)))\n",
    "conmodel.add(layers.Conv2D(598, (3, 3), activation='relu'))\n",
    "conmodel.add(layers.MaxPooling2D((2, 2)))\n",
    "conmodel.add(layers.Conv2D(598, (3, 3), activation='relu'))\n",
    "conmodel.add(layers.Flatten())\n",
    "conmodel.add(layers.Dense(64, activation='relu'))\n",
    "conmodel.add(layers.Dense(64, activation='relu'))\n",
    "conmodel.add(layers.Dense(1, activation = 'sigmoid'))\n",
    "conmodel.summary()"
   ]
  },
  {
   "cell_type": "code",
   "execution_count": 10,
   "metadata": {},
   "outputs": [],
   "source": [
    "optimizer = tf.keras.optimizers.Adam(epsilon=0.01)\n",
    "conmodel.compile(\n",
    "    optimizer=optimizer,\n",
    "    loss = 'binary_crossentropy',\n",
    "    metrics=['binary_accuracy'],\n",
    ")"
   ]
  },
  {
   "cell_type": "code",
   "execution_count": 11,
   "metadata": {},
   "outputs": [
    {
     "name": "stdout",
     "output_type": "stream",
     "text": [
      "Epoch 1/30\n"
     ]
    },
    {
     "ename": "KeyboardInterrupt",
     "evalue": "",
     "output_type": "error",
     "traceback": [
      "\u001b[1;31m---------------------------------------------------------------------------\u001b[0m",
      "\u001b[1;31mKeyboardInterrupt\u001b[0m                         Traceback (most recent call last)",
      "\u001b[1;32m<ipython-input-11-fd6a442c01d2>\u001b[0m in \u001b[0;36m<module>\u001b[1;34m\u001b[0m\n\u001b[1;32m----> 1\u001b[1;33m \u001b[0mhistory\u001b[0m \u001b[1;33m=\u001b[0m \u001b[0mconmodel\u001b[0m\u001b[1;33m.\u001b[0m\u001b[0mfit\u001b[0m\u001b[1;33m(\u001b[0m\u001b[0mpictureList\u001b[0m\u001b[1;33m,\u001b[0m \u001b[0mclassName\u001b[0m\u001b[1;33m,\u001b[0m \u001b[0mepochs\u001b[0m\u001b[1;33m=\u001b[0m\u001b[1;36m30\u001b[0m\u001b[1;33m)\u001b[0m\u001b[1;33m\u001b[0m\u001b[1;33m\u001b[0m\u001b[0m\n\u001b[0m",
      "\u001b[1;32m~\\anaconda3\\lib\\site-packages\\keras\\utils\\traceback_utils.py\u001b[0m in \u001b[0;36merror_handler\u001b[1;34m(*args, **kwargs)\u001b[0m\n\u001b[0;32m     62\u001b[0m     \u001b[0mfiltered_tb\u001b[0m \u001b[1;33m=\u001b[0m \u001b[1;32mNone\u001b[0m\u001b[1;33m\u001b[0m\u001b[1;33m\u001b[0m\u001b[0m\n\u001b[0;32m     63\u001b[0m     \u001b[1;32mtry\u001b[0m\u001b[1;33m:\u001b[0m\u001b[1;33m\u001b[0m\u001b[1;33m\u001b[0m\u001b[0m\n\u001b[1;32m---> 64\u001b[1;33m       \u001b[1;32mreturn\u001b[0m \u001b[0mfn\u001b[0m\u001b[1;33m(\u001b[0m\u001b[1;33m*\u001b[0m\u001b[0margs\u001b[0m\u001b[1;33m,\u001b[0m \u001b[1;33m**\u001b[0m\u001b[0mkwargs\u001b[0m\u001b[1;33m)\u001b[0m\u001b[1;33m\u001b[0m\u001b[1;33m\u001b[0m\u001b[0m\n\u001b[0m\u001b[0;32m     65\u001b[0m     \u001b[1;32mexcept\u001b[0m \u001b[0mException\u001b[0m \u001b[1;32mas\u001b[0m \u001b[0me\u001b[0m\u001b[1;33m:\u001b[0m  \u001b[1;31m# pylint: disable=broad-except\u001b[0m\u001b[1;33m\u001b[0m\u001b[1;33m\u001b[0m\u001b[0m\n\u001b[0;32m     66\u001b[0m       \u001b[0mfiltered_tb\u001b[0m \u001b[1;33m=\u001b[0m \u001b[0m_process_traceback_frames\u001b[0m\u001b[1;33m(\u001b[0m\u001b[0me\u001b[0m\u001b[1;33m.\u001b[0m\u001b[0m__traceback__\u001b[0m\u001b[1;33m)\u001b[0m\u001b[1;33m\u001b[0m\u001b[1;33m\u001b[0m\u001b[0m\n",
      "\u001b[1;32m~\\anaconda3\\lib\\site-packages\\keras\\engine\\training.py\u001b[0m in \u001b[0;36mfit\u001b[1;34m(self, x, y, batch_size, epochs, verbose, callbacks, validation_split, validation_data, shuffle, class_weight, sample_weight, initial_epoch, steps_per_epoch, validation_steps, validation_batch_size, validation_freq, max_queue_size, workers, use_multiprocessing)\u001b[0m\n\u001b[0;32m   1214\u001b[0m                 _r=1):\n\u001b[0;32m   1215\u001b[0m               \u001b[0mcallbacks\u001b[0m\u001b[1;33m.\u001b[0m\u001b[0mon_train_batch_begin\u001b[0m\u001b[1;33m(\u001b[0m\u001b[0mstep\u001b[0m\u001b[1;33m)\u001b[0m\u001b[1;33m\u001b[0m\u001b[1;33m\u001b[0m\u001b[0m\n\u001b[1;32m-> 1216\u001b[1;33m               \u001b[0mtmp_logs\u001b[0m \u001b[1;33m=\u001b[0m \u001b[0mself\u001b[0m\u001b[1;33m.\u001b[0m\u001b[0mtrain_function\u001b[0m\u001b[1;33m(\u001b[0m\u001b[0miterator\u001b[0m\u001b[1;33m)\u001b[0m\u001b[1;33m\u001b[0m\u001b[1;33m\u001b[0m\u001b[0m\n\u001b[0m\u001b[0;32m   1217\u001b[0m               \u001b[1;32mif\u001b[0m \u001b[0mdata_handler\u001b[0m\u001b[1;33m.\u001b[0m\u001b[0mshould_sync\u001b[0m\u001b[1;33m:\u001b[0m\u001b[1;33m\u001b[0m\u001b[1;33m\u001b[0m\u001b[0m\n\u001b[0;32m   1218\u001b[0m                 \u001b[0mcontext\u001b[0m\u001b[1;33m.\u001b[0m\u001b[0masync_wait\u001b[0m\u001b[1;33m(\u001b[0m\u001b[1;33m)\u001b[0m\u001b[1;33m\u001b[0m\u001b[1;33m\u001b[0m\u001b[0m\n",
      "\u001b[1;32m~\\anaconda3\\lib\\site-packages\\tensorflow\\python\\util\\traceback_utils.py\u001b[0m in \u001b[0;36merror_handler\u001b[1;34m(*args, **kwargs)\u001b[0m\n\u001b[0;32m    148\u001b[0m     \u001b[0mfiltered_tb\u001b[0m \u001b[1;33m=\u001b[0m \u001b[1;32mNone\u001b[0m\u001b[1;33m\u001b[0m\u001b[1;33m\u001b[0m\u001b[0m\n\u001b[0;32m    149\u001b[0m     \u001b[1;32mtry\u001b[0m\u001b[1;33m:\u001b[0m\u001b[1;33m\u001b[0m\u001b[1;33m\u001b[0m\u001b[0m\n\u001b[1;32m--> 150\u001b[1;33m       \u001b[1;32mreturn\u001b[0m \u001b[0mfn\u001b[0m\u001b[1;33m(\u001b[0m\u001b[1;33m*\u001b[0m\u001b[0margs\u001b[0m\u001b[1;33m,\u001b[0m \u001b[1;33m**\u001b[0m\u001b[0mkwargs\u001b[0m\u001b[1;33m)\u001b[0m\u001b[1;33m\u001b[0m\u001b[1;33m\u001b[0m\u001b[0m\n\u001b[0m\u001b[0;32m    151\u001b[0m     \u001b[1;32mexcept\u001b[0m \u001b[0mException\u001b[0m \u001b[1;32mas\u001b[0m \u001b[0me\u001b[0m\u001b[1;33m:\u001b[0m\u001b[1;33m\u001b[0m\u001b[1;33m\u001b[0m\u001b[0m\n\u001b[0;32m    152\u001b[0m       \u001b[0mfiltered_tb\u001b[0m \u001b[1;33m=\u001b[0m \u001b[0m_process_traceback_frames\u001b[0m\u001b[1;33m(\u001b[0m\u001b[0me\u001b[0m\u001b[1;33m.\u001b[0m\u001b[0m__traceback__\u001b[0m\u001b[1;33m)\u001b[0m\u001b[1;33m\u001b[0m\u001b[1;33m\u001b[0m\u001b[0m\n",
      "\u001b[1;32m~\\anaconda3\\lib\\site-packages\\tensorflow\\python\\eager\\def_function.py\u001b[0m in \u001b[0;36m__call__\u001b[1;34m(self, *args, **kwds)\u001b[0m\n\u001b[0;32m    908\u001b[0m \u001b[1;33m\u001b[0m\u001b[0m\n\u001b[0;32m    909\u001b[0m       \u001b[1;32mwith\u001b[0m \u001b[0mOptionalXlaContext\u001b[0m\u001b[1;33m(\u001b[0m\u001b[0mself\u001b[0m\u001b[1;33m.\u001b[0m\u001b[0m_jit_compile\u001b[0m\u001b[1;33m)\u001b[0m\u001b[1;33m:\u001b[0m\u001b[1;33m\u001b[0m\u001b[1;33m\u001b[0m\u001b[0m\n\u001b[1;32m--> 910\u001b[1;33m         \u001b[0mresult\u001b[0m \u001b[1;33m=\u001b[0m \u001b[0mself\u001b[0m\u001b[1;33m.\u001b[0m\u001b[0m_call\u001b[0m\u001b[1;33m(\u001b[0m\u001b[1;33m*\u001b[0m\u001b[0margs\u001b[0m\u001b[1;33m,\u001b[0m \u001b[1;33m**\u001b[0m\u001b[0mkwds\u001b[0m\u001b[1;33m)\u001b[0m\u001b[1;33m\u001b[0m\u001b[1;33m\u001b[0m\u001b[0m\n\u001b[0m\u001b[0;32m    911\u001b[0m \u001b[1;33m\u001b[0m\u001b[0m\n\u001b[0;32m    912\u001b[0m       \u001b[0mnew_tracing_count\u001b[0m \u001b[1;33m=\u001b[0m \u001b[0mself\u001b[0m\u001b[1;33m.\u001b[0m\u001b[0mexperimental_get_tracing_count\u001b[0m\u001b[1;33m(\u001b[0m\u001b[1;33m)\u001b[0m\u001b[1;33m\u001b[0m\u001b[1;33m\u001b[0m\u001b[0m\n",
      "\u001b[1;32m~\\anaconda3\\lib\\site-packages\\tensorflow\\python\\eager\\def_function.py\u001b[0m in \u001b[0;36m_call\u001b[1;34m(self, *args, **kwds)\u001b[0m\n\u001b[0;32m    973\u001b[0m         \u001b[1;31m# Lifting succeeded, so variables are initialized and we can run the\u001b[0m\u001b[1;33m\u001b[0m\u001b[1;33m\u001b[0m\u001b[1;33m\u001b[0m\u001b[0m\n\u001b[0;32m    974\u001b[0m         \u001b[1;31m# stateless function.\u001b[0m\u001b[1;33m\u001b[0m\u001b[1;33m\u001b[0m\u001b[1;33m\u001b[0m\u001b[0m\n\u001b[1;32m--> 975\u001b[1;33m         \u001b[1;32mreturn\u001b[0m \u001b[0mself\u001b[0m\u001b[1;33m.\u001b[0m\u001b[0m_stateless_fn\u001b[0m\u001b[1;33m(\u001b[0m\u001b[1;33m*\u001b[0m\u001b[0margs\u001b[0m\u001b[1;33m,\u001b[0m \u001b[1;33m**\u001b[0m\u001b[0mkwds\u001b[0m\u001b[1;33m)\u001b[0m\u001b[1;33m\u001b[0m\u001b[1;33m\u001b[0m\u001b[0m\n\u001b[0m\u001b[0;32m    976\u001b[0m     \u001b[1;32melse\u001b[0m\u001b[1;33m:\u001b[0m\u001b[1;33m\u001b[0m\u001b[1;33m\u001b[0m\u001b[0m\n\u001b[0;32m    977\u001b[0m       \u001b[0m_\u001b[0m\u001b[1;33m,\u001b[0m \u001b[0m_\u001b[0m\u001b[1;33m,\u001b[0m \u001b[0m_\u001b[0m\u001b[1;33m,\u001b[0m \u001b[0mfiltered_flat_args\u001b[0m \u001b[1;33m=\u001b[0m\u001b[0;31m \u001b[0m\u001b[0;31m\\\u001b[0m\u001b[1;33m\u001b[0m\u001b[1;33m\u001b[0m\u001b[0m\n",
      "\u001b[1;32m~\\anaconda3\\lib\\site-packages\\tensorflow\\python\\eager\\function.py\u001b[0m in \u001b[0;36m__call__\u001b[1;34m(self, *args, **kwargs)\u001b[0m\n\u001b[0;32m   3128\u001b[0m       (graph_function,\n\u001b[0;32m   3129\u001b[0m        filtered_flat_args) = self._maybe_define_function(args, kwargs)\n\u001b[1;32m-> 3130\u001b[1;33m     return graph_function._call_flat(\n\u001b[0m\u001b[0;32m   3131\u001b[0m         filtered_flat_args, captured_inputs=graph_function.captured_inputs)  # pylint: disable=protected-access\n\u001b[0;32m   3132\u001b[0m \u001b[1;33m\u001b[0m\u001b[0m\n",
      "\u001b[1;32m~\\anaconda3\\lib\\site-packages\\tensorflow\\python\\eager\\function.py\u001b[0m in \u001b[0;36m_call_flat\u001b[1;34m(self, args, captured_inputs, cancellation_manager)\u001b[0m\n\u001b[0;32m   1957\u001b[0m         and executing_eagerly):\n\u001b[0;32m   1958\u001b[0m       \u001b[1;31m# No tape is watching; skip to running the function.\u001b[0m\u001b[1;33m\u001b[0m\u001b[1;33m\u001b[0m\u001b[1;33m\u001b[0m\u001b[0m\n\u001b[1;32m-> 1959\u001b[1;33m       return self._build_call_outputs(self._inference_function.call(\n\u001b[0m\u001b[0;32m   1960\u001b[0m           ctx, args, cancellation_manager=cancellation_manager))\n\u001b[0;32m   1961\u001b[0m     forward_backward = self._select_forward_and_backward_functions(\n",
      "\u001b[1;32m~\\anaconda3\\lib\\site-packages\\tensorflow\\python\\eager\\function.py\u001b[0m in \u001b[0;36mcall\u001b[1;34m(self, ctx, args, cancellation_manager)\u001b[0m\n\u001b[0;32m    596\u001b[0m       \u001b[1;32mwith\u001b[0m \u001b[0m_InterpolateFunctionError\u001b[0m\u001b[1;33m(\u001b[0m\u001b[0mself\u001b[0m\u001b[1;33m)\u001b[0m\u001b[1;33m:\u001b[0m\u001b[1;33m\u001b[0m\u001b[1;33m\u001b[0m\u001b[0m\n\u001b[0;32m    597\u001b[0m         \u001b[1;32mif\u001b[0m \u001b[0mcancellation_manager\u001b[0m \u001b[1;32mis\u001b[0m \u001b[1;32mNone\u001b[0m\u001b[1;33m:\u001b[0m\u001b[1;33m\u001b[0m\u001b[1;33m\u001b[0m\u001b[0m\n\u001b[1;32m--> 598\u001b[1;33m           outputs = execute.execute(\n\u001b[0m\u001b[0;32m    599\u001b[0m               \u001b[0mstr\u001b[0m\u001b[1;33m(\u001b[0m\u001b[0mself\u001b[0m\u001b[1;33m.\u001b[0m\u001b[0msignature\u001b[0m\u001b[1;33m.\u001b[0m\u001b[0mname\u001b[0m\u001b[1;33m)\u001b[0m\u001b[1;33m,\u001b[0m\u001b[1;33m\u001b[0m\u001b[1;33m\u001b[0m\u001b[0m\n\u001b[0;32m    600\u001b[0m               \u001b[0mnum_outputs\u001b[0m\u001b[1;33m=\u001b[0m\u001b[0mself\u001b[0m\u001b[1;33m.\u001b[0m\u001b[0m_num_outputs\u001b[0m\u001b[1;33m,\u001b[0m\u001b[1;33m\u001b[0m\u001b[1;33m\u001b[0m\u001b[0m\n",
      "\u001b[1;32m~\\anaconda3\\lib\\site-packages\\tensorflow\\python\\eager\\execute.py\u001b[0m in \u001b[0;36mquick_execute\u001b[1;34m(op_name, num_outputs, inputs, attrs, ctx, name)\u001b[0m\n\u001b[0;32m     56\u001b[0m   \u001b[1;32mtry\u001b[0m\u001b[1;33m:\u001b[0m\u001b[1;33m\u001b[0m\u001b[1;33m\u001b[0m\u001b[0m\n\u001b[0;32m     57\u001b[0m     \u001b[0mctx\u001b[0m\u001b[1;33m.\u001b[0m\u001b[0mensure_initialized\u001b[0m\u001b[1;33m(\u001b[0m\u001b[1;33m)\u001b[0m\u001b[1;33m\u001b[0m\u001b[1;33m\u001b[0m\u001b[0m\n\u001b[1;32m---> 58\u001b[1;33m     tensors = pywrap_tfe.TFE_Py_Execute(ctx._handle, device_name, op_name,\n\u001b[0m\u001b[0;32m     59\u001b[0m                                         inputs, attrs, num_outputs)\n\u001b[0;32m     60\u001b[0m   \u001b[1;32mexcept\u001b[0m \u001b[0mcore\u001b[0m\u001b[1;33m.\u001b[0m\u001b[0m_NotOkStatusException\u001b[0m \u001b[1;32mas\u001b[0m \u001b[0me\u001b[0m\u001b[1;33m:\u001b[0m\u001b[1;33m\u001b[0m\u001b[1;33m\u001b[0m\u001b[0m\n",
      "\u001b[1;31mKeyboardInterrupt\u001b[0m: "
     ]
    }
   ],
   "source": [
    "history = conmodel.fit(pictureList, className, epochs=30)"
   ]
  },
  {
   "cell_type": "code",
   "execution_count": null,
   "metadata": {},
   "outputs": [],
   "source": []
  }
 ],
 "metadata": {
  "colab": {
   "collapsed_sections": [],
   "name": "ImagePrep.ipynb",
   "provenance": []
  },
  "kernelspec": {
   "display_name": "Python 3",
   "language": "python",
   "name": "python3"
  },
  "language_info": {
   "codemirror_mode": {
    "name": "ipython",
    "version": 3
   },
   "file_extension": ".py",
   "mimetype": "text/x-python",
   "name": "python",
   "nbconvert_exporter": "python",
   "pygments_lexer": "ipython3",
   "version": "3.8.5"
  }
 },
 "nbformat": 4,
 "nbformat_minor": 4
}
