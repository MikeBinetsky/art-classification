{
 "cells": [
  {
   "cell_type": "code",
   "execution_count": 1,
   "metadata": {
    "id": "w-C1qTWnGQg9"
   },
   "outputs": [],
   "source": [
    "import pandas as pd\n",
    "import numpy as np\n",
    "import os\n",
    "import tensorflow as tf\n",
    "from tensorflow import keras\n",
    "from tensorflow.keras import layers\n",
    "from tensorflow.keras.models import Sequential, Model\n",
    "from  matplotlib import pyplot as plt\n",
    "import matplotlib.image as mpimg\n",
    "%matplotlib inline\n",
    "#from google.colab import files\n",
    "import random\n",
    "from skimage.transform import rescale, resize, downscale_local_mean\n",
    "from skimage import transform, data, exposure, img_as_float\n",
    "from tensorflow.keras.layers.experimental import preprocessing"
   ]
  },
  {
   "cell_type": "code",
   "execution_count": 12,
   "metadata": {
    "id": "C8-s0BrCf8oc"
   },
   "outputs": [],
   "source": [
    "trainingPath = \"Images_complete/\"\n",
    "pictureList = []\n",
    "className = []\n",
    "image_path= os.listdir(trainingPath)\n",
    "for i in image_path:\n",
    "  image = mpimg.imread(trainingPath + i)\n",
    "  image = resize(image, (200, 200), anti_aliasing=True)\n",
    "  pictureList.append(image)\n",
    "  if \"gogh\" in i:\n",
    "    className.append(1)\n",
    "    imageUPDATE = image\n",
    "    imageGamma = exposure.adjust_gamma(imageUPDATE, 2)\n",
    "    pictureList.append(imageGamma)\n",
    "    className.append(1)\n",
    "    for i in range(0, 3):\n",
    "      if i == 0:\n",
    "        imageUPDATE = transform.rotate(image, 90, resize = False)\n",
    "        pictureList.append(imageUPDATE)\n",
    "        className.append(1)\n",
    "        imageGamma = exposure.adjust_gamma(imageUPDATE, 2)\n",
    "        pictureList.append(imageGamma)\n",
    "        className.append(1)\n",
    "      elif i == 1:\n",
    "        imageUPDATE = transform.rotate(image, 180, resize = False)\n",
    "        pictureList.append(imageUPDATE)\n",
    "        className.append(1)\n",
    "        imageGamma = exposure.adjust_gamma(image, 2)\n",
    "        pictureList.append(imageGamma)\n",
    "        className.append(1)\n",
    "      elif i == 2:\n",
    "        imageUPDATE = transform.rotate(image, 270, resize = False)\n",
    "        pictureList.append(imageUPDATE)\n",
    "        className.append(1)   \n",
    "        imageGamma = exposure.adjust_gamma(image, 2)\n",
    "        pictureList.append(imageGamma)\n",
    "        className.append(1)   \n",
    "      elif i == 3:\n",
    "        imageUPDATE = transform.rotate(image, 270, resize = False)\n",
    "        pictureList.append(imageUPDATE)\n",
    "        className.append(1) \n",
    "        imageGamma = exposure.adjust_gamma(image, 2)\n",
    "        pictureList.append(imageGamma)\n",
    "        className.append(1)\n",
    "  else:\n",
    "    className.append(0)\n",
    "    imageGamma = exposure.adjust_gamma(imageUPDATE, 2)\n",
    "    pictureList.append(imageGamma)\n",
    "    className.append(0)\n",
    "    if i == 0:\n",
    "      imageUPDATE = transform.rotate(image, 90, resize = False)\n",
    "      pictureList.append(imageUPDATE)\n",
    "      className.append(0)\n",
    "      imageGamma = exposure.adjust_gamma(image, 2)\n",
    "      pictureList.append(imageGamma)\n",
    "      className.append(0)\n",
    "    elif i == 1:\n",
    "      imageUPDATE = transform.rotate(image, 180, resize = False)\n",
    "      pictureList.append(imageUPDATE)\n",
    "      className.append(0)\n",
    "      imageGamma = exposure.adjust_gamma(image, 2)\n",
    "      pictureList.append(imageGamma)\n",
    "      className.append(0)\n",
    "    elif i == 2:\n",
    "      imageUPDATE = transform.rotate(image, 270, resize = False)\n",
    "      pictureList.append(imageUPDATE)\n",
    "      className.append(0) \n",
    "      imageGamma = exposure.adjust_gamma(image, 2)\n",
    "      pictureList.append(imageGamma)\n",
    "      className.append(0)   \n",
    "    elif i == 3:\n",
    "      imageUPDATE = transform.rotate(image, 270, resize = False)\n",
    "      pictureList.append(imageUPDATE)\n",
    "      className.append(0) \n",
    "      imageGamma = exposure.adjust_gamma(image, 2)\n",
    "      pictureList.append(imageGamma)\n",
    "      className.append(0)"
   ]
  },
  {
   "cell_type": "code",
   "execution_count": 13,
   "metadata": {},
   "outputs": [],
   "source": [
    "# totalDF = pd.DataFrame([pictureList, className])\n",
    "# totalDF = totalDF.transpose()\n",
    "# totalDF = totalDF.rename(columns = {0: \"Image\", 1 : \"vanGoghOrNo\"})"
   ]
  },
  {
   "cell_type": "code",
   "execution_count": 14,
   "metadata": {},
   "outputs": [],
   "source": [
    "# totalDF.head(2)"
   ]
  },
  {
   "cell_type": "code",
   "execution_count": 15,
   "metadata": {},
   "outputs": [],
   "source": [
    "from sklearn.model_selection import train_test_split\n",
    "className = np.array(className)\n",
    "pictureList = np.array([i / 255 for i in pictureList])\n",
    "X = pictureList\n",
    "y = className\n",
    "X_train, X_test, y_train, y_test = train_test_split(X, y, test_size=0.15, random_state=42)"
   ]
  },
  {
   "cell_type": "code",
   "execution_count": 7,
   "metadata": {
    "id": "yIQHX4Q5YmoC"
   },
   "outputs": [],
   "source": [
    "# pretrained_base = tf.keras.applications.inception_v3.InceptionV3(\n",
    "#     include_top=True, weights='imagenet', input_tensor=None,\n",
    "#     input_shape=(299, 299, 3), pooling=None, classes=1000,\n",
    "#     classifier_activation='softmax'\n",
    "# )"
   ]
  },
  {
   "cell_type": "code",
   "execution_count": 8,
   "metadata": {
    "id": "dFX7vs04mDkn"
   },
   "outputs": [],
   "source": [
    "# pretrained_base.trainable = False"
   ]
  },
  {
   "cell_type": "code",
   "execution_count": 9,
   "metadata": {
    "id": "eAWKq8komLcU"
   },
   "outputs": [],
   "source": [
    "# newModel = keras.Sequential([\n",
    "#     preprocessing.RandomFlip('horizontal'),\n",
    "#     preprocessing.RandomContrast(0.5),\n",
    "#     pretrained_base,\n",
    "#     layers.Flatten(),\n",
    "#     layers.Dense(units=8, activation='relu'),\n",
    "#     layers.Dense(units=16, activation='tanh'),\n",
    "#     layers.Dense(units=8, activation='relu'),\n",
    "#     layers.Dense(units=1, activation='sigmoid')\n",
    "# ])"
   ]
  },
  {
   "cell_type": "code",
   "execution_count": 10,
   "metadata": {
    "id": "pO7uUmM9mj8-"
   },
   "outputs": [],
   "source": [
    "# optimizer = tf.keras.optimizers.Adam(epsilon=0.01)\n",
    "# newModel.compile(\n",
    "#     optimizer=optimizer,\n",
    "#     loss = 'binary_crossentropy',\n",
    "#     metrics=['binary_accuracy'],\n",
    "# )"
   ]
  },
  {
   "cell_type": "code",
   "execution_count": 11,
   "metadata": {
    "colab": {
     "base_uri": "https://localhost:8080/"
    },
    "collapsed": true,
    "id": "9EHNj7AemmcM",
    "jupyter": {
     "outputs_hidden": true
    },
    "outputId": "cf6cccc2-f867-41aa-8ef1-65b5e9c35bf8"
   },
   "outputs": [
    {
     "name": "stdout",
     "output_type": "stream",
     "text": [
      "Epoch 1/30\n",
      "5/5 [==============================] - 6s 680ms/step - loss: 0.6931 - binary_accuracy: 0.5960\n",
      "Epoch 2/30\n",
      "5/5 [==============================] - 3s 671ms/step - loss: 0.6928 - binary_accuracy: 0.6026\n",
      "Epoch 3/30\n",
      "5/5 [==============================] - 3s 666ms/step - loss: 0.6923 - binary_accuracy: 0.6026\n",
      "Epoch 4/30\n",
      "5/5 [==============================] - 3s 665ms/step - loss: 0.6918 - binary_accuracy: 0.6026\n",
      "Epoch 5/30\n",
      "5/5 [==============================] - 3s 670ms/step - loss: 0.6914 - binary_accuracy: 0.6026\n",
      "Epoch 6/30\n",
      "5/5 [==============================] - 3s 671ms/step - loss: 0.6909 - binary_accuracy: 0.6026\n",
      "Epoch 7/30\n",
      "5/5 [==============================] - 3s 668ms/step - loss: 0.6904 - binary_accuracy: 0.6026\n",
      "Epoch 8/30\n",
      "5/5 [==============================] - 3s 666ms/step - loss: 0.6899 - binary_accuracy: 0.6026\n",
      "Epoch 9/30\n",
      "5/5 [==============================] - 3s 671ms/step - loss: 0.6894 - binary_accuracy: 0.6026\n",
      "Epoch 10/30\n",
      "5/5 [==============================] - 3s 668ms/step - loss: 0.6889 - binary_accuracy: 0.6026\n",
      "Epoch 11/30\n",
      "5/5 [==============================] - 3s 669ms/step - loss: 0.6884 - binary_accuracy: 0.6026\n",
      "Epoch 12/30\n",
      "5/5 [==============================] - 4s 702ms/step - loss: 0.6879 - binary_accuracy: 0.6026\n",
      "Epoch 13/30\n",
      "5/5 [==============================] - 4s 726ms/step - loss: 0.6875 - binary_accuracy: 0.6026\n",
      "Epoch 14/30\n",
      "5/5 [==============================] - 4s 747ms/step - loss: 0.6869 - binary_accuracy: 0.6026\n",
      "Epoch 15/30\n",
      "5/5 [==============================] - 4s 727ms/step - loss: 0.6865 - binary_accuracy: 0.6026\n",
      "Epoch 16/30\n",
      "5/5 [==============================] - 4s 730ms/step - loss: 0.6861 - binary_accuracy: 0.6026\n",
      "Epoch 17/30\n",
      "5/5 [==============================] - 4s 722ms/step - loss: 0.6856 - binary_accuracy: 0.6026\n",
      "Epoch 18/30\n",
      "5/5 [==============================] - 4s 728ms/step - loss: 0.6851 - binary_accuracy: 0.6026\n",
      "Epoch 19/30\n",
      "5/5 [==============================] - 4s 740ms/step - loss: 0.6847 - binary_accuracy: 0.6026\n",
      "Epoch 20/30\n",
      "5/5 [==============================] - 4s 750ms/step - loss: 0.6843 - binary_accuracy: 0.6026\n",
      "Epoch 21/30\n",
      "5/5 [==============================] - 4s 761ms/step - loss: 0.6838 - binary_accuracy: 0.6026\n",
      "Epoch 22/30\n",
      "2/5 [===========>..................] - ETA: 2s - loss: 0.6761 - binary_accuracy: 0.6719"
     ]
    },
    {
     "ename": "KeyboardInterrupt",
     "evalue": "",
     "output_type": "error",
     "traceback": [
      "\u001b[1;31m---------------------------------------------------------------------------\u001b[0m",
      "\u001b[1;31mKeyboardInterrupt\u001b[0m                         Traceback (most recent call last)",
      "\u001b[1;32m<ipython-input-11-b8a3dff38e30>\u001b[0m in \u001b[0;36m<module>\u001b[1;34m\u001b[0m\n\u001b[1;32m----> 1\u001b[1;33m \u001b[0mhistory\u001b[0m \u001b[1;33m=\u001b[0m \u001b[0mnewModel\u001b[0m\u001b[1;33m.\u001b[0m\u001b[0mfit\u001b[0m\u001b[1;33m(\u001b[0m\u001b[0mX_train\u001b[0m\u001b[1;33m,\u001b[0m \u001b[0my_train\u001b[0m\u001b[1;33m,\u001b[0m \u001b[0mepochs\u001b[0m\u001b[1;33m=\u001b[0m\u001b[1;36m30\u001b[0m\u001b[1;33m)\u001b[0m\u001b[1;33m\u001b[0m\u001b[1;33m\u001b[0m\u001b[0m\n\u001b[0m",
      "\u001b[1;32m~\\anaconda3\\lib\\site-packages\\keras\\utils\\traceback_utils.py\u001b[0m in \u001b[0;36merror_handler\u001b[1;34m(*args, **kwargs)\u001b[0m\n\u001b[0;32m     62\u001b[0m     \u001b[0mfiltered_tb\u001b[0m \u001b[1;33m=\u001b[0m \u001b[1;32mNone\u001b[0m\u001b[1;33m\u001b[0m\u001b[1;33m\u001b[0m\u001b[0m\n\u001b[0;32m     63\u001b[0m     \u001b[1;32mtry\u001b[0m\u001b[1;33m:\u001b[0m\u001b[1;33m\u001b[0m\u001b[1;33m\u001b[0m\u001b[0m\n\u001b[1;32m---> 64\u001b[1;33m       \u001b[1;32mreturn\u001b[0m \u001b[0mfn\u001b[0m\u001b[1;33m(\u001b[0m\u001b[1;33m*\u001b[0m\u001b[0margs\u001b[0m\u001b[1;33m,\u001b[0m \u001b[1;33m**\u001b[0m\u001b[0mkwargs\u001b[0m\u001b[1;33m)\u001b[0m\u001b[1;33m\u001b[0m\u001b[1;33m\u001b[0m\u001b[0m\n\u001b[0m\u001b[0;32m     65\u001b[0m     \u001b[1;32mexcept\u001b[0m \u001b[0mException\u001b[0m \u001b[1;32mas\u001b[0m \u001b[0me\u001b[0m\u001b[1;33m:\u001b[0m  \u001b[1;31m# pylint: disable=broad-except\u001b[0m\u001b[1;33m\u001b[0m\u001b[1;33m\u001b[0m\u001b[0m\n\u001b[0;32m     66\u001b[0m       \u001b[0mfiltered_tb\u001b[0m \u001b[1;33m=\u001b[0m \u001b[0m_process_traceback_frames\u001b[0m\u001b[1;33m(\u001b[0m\u001b[0me\u001b[0m\u001b[1;33m.\u001b[0m\u001b[0m__traceback__\u001b[0m\u001b[1;33m)\u001b[0m\u001b[1;33m\u001b[0m\u001b[1;33m\u001b[0m\u001b[0m\n",
      "\u001b[1;32m~\\anaconda3\\lib\\site-packages\\keras\\engine\\training.py\u001b[0m in \u001b[0;36mfit\u001b[1;34m(self, x, y, batch_size, epochs, verbose, callbacks, validation_split, validation_data, shuffle, class_weight, sample_weight, initial_epoch, steps_per_epoch, validation_steps, validation_batch_size, validation_freq, max_queue_size, workers, use_multiprocessing)\u001b[0m\n\u001b[0;32m   1214\u001b[0m                 _r=1):\n\u001b[0;32m   1215\u001b[0m               \u001b[0mcallbacks\u001b[0m\u001b[1;33m.\u001b[0m\u001b[0mon_train_batch_begin\u001b[0m\u001b[1;33m(\u001b[0m\u001b[0mstep\u001b[0m\u001b[1;33m)\u001b[0m\u001b[1;33m\u001b[0m\u001b[1;33m\u001b[0m\u001b[0m\n\u001b[1;32m-> 1216\u001b[1;33m               \u001b[0mtmp_logs\u001b[0m \u001b[1;33m=\u001b[0m \u001b[0mself\u001b[0m\u001b[1;33m.\u001b[0m\u001b[0mtrain_function\u001b[0m\u001b[1;33m(\u001b[0m\u001b[0miterator\u001b[0m\u001b[1;33m)\u001b[0m\u001b[1;33m\u001b[0m\u001b[1;33m\u001b[0m\u001b[0m\n\u001b[0m\u001b[0;32m   1217\u001b[0m               \u001b[1;32mif\u001b[0m \u001b[0mdata_handler\u001b[0m\u001b[1;33m.\u001b[0m\u001b[0mshould_sync\u001b[0m\u001b[1;33m:\u001b[0m\u001b[1;33m\u001b[0m\u001b[1;33m\u001b[0m\u001b[0m\n\u001b[0;32m   1218\u001b[0m                 \u001b[0mcontext\u001b[0m\u001b[1;33m.\u001b[0m\u001b[0masync_wait\u001b[0m\u001b[1;33m(\u001b[0m\u001b[1;33m)\u001b[0m\u001b[1;33m\u001b[0m\u001b[1;33m\u001b[0m\u001b[0m\n",
      "\u001b[1;32m~\\anaconda3\\lib\\site-packages\\tensorflow\\python\\util\\traceback_utils.py\u001b[0m in \u001b[0;36merror_handler\u001b[1;34m(*args, **kwargs)\u001b[0m\n\u001b[0;32m    148\u001b[0m     \u001b[0mfiltered_tb\u001b[0m \u001b[1;33m=\u001b[0m \u001b[1;32mNone\u001b[0m\u001b[1;33m\u001b[0m\u001b[1;33m\u001b[0m\u001b[0m\n\u001b[0;32m    149\u001b[0m     \u001b[1;32mtry\u001b[0m\u001b[1;33m:\u001b[0m\u001b[1;33m\u001b[0m\u001b[1;33m\u001b[0m\u001b[0m\n\u001b[1;32m--> 150\u001b[1;33m       \u001b[1;32mreturn\u001b[0m \u001b[0mfn\u001b[0m\u001b[1;33m(\u001b[0m\u001b[1;33m*\u001b[0m\u001b[0margs\u001b[0m\u001b[1;33m,\u001b[0m \u001b[1;33m**\u001b[0m\u001b[0mkwargs\u001b[0m\u001b[1;33m)\u001b[0m\u001b[1;33m\u001b[0m\u001b[1;33m\u001b[0m\u001b[0m\n\u001b[0m\u001b[0;32m    151\u001b[0m     \u001b[1;32mexcept\u001b[0m \u001b[0mException\u001b[0m \u001b[1;32mas\u001b[0m \u001b[0me\u001b[0m\u001b[1;33m:\u001b[0m\u001b[1;33m\u001b[0m\u001b[1;33m\u001b[0m\u001b[0m\n\u001b[0;32m    152\u001b[0m       \u001b[0mfiltered_tb\u001b[0m \u001b[1;33m=\u001b[0m \u001b[0m_process_traceback_frames\u001b[0m\u001b[1;33m(\u001b[0m\u001b[0me\u001b[0m\u001b[1;33m.\u001b[0m\u001b[0m__traceback__\u001b[0m\u001b[1;33m)\u001b[0m\u001b[1;33m\u001b[0m\u001b[1;33m\u001b[0m\u001b[0m\n",
      "\u001b[1;32m~\\anaconda3\\lib\\site-packages\\tensorflow\\python\\eager\\def_function.py\u001b[0m in \u001b[0;36m__call__\u001b[1;34m(self, *args, **kwds)\u001b[0m\n\u001b[0;32m    908\u001b[0m \u001b[1;33m\u001b[0m\u001b[0m\n\u001b[0;32m    909\u001b[0m       \u001b[1;32mwith\u001b[0m \u001b[0mOptionalXlaContext\u001b[0m\u001b[1;33m(\u001b[0m\u001b[0mself\u001b[0m\u001b[1;33m.\u001b[0m\u001b[0m_jit_compile\u001b[0m\u001b[1;33m)\u001b[0m\u001b[1;33m:\u001b[0m\u001b[1;33m\u001b[0m\u001b[1;33m\u001b[0m\u001b[0m\n\u001b[1;32m--> 910\u001b[1;33m         \u001b[0mresult\u001b[0m \u001b[1;33m=\u001b[0m \u001b[0mself\u001b[0m\u001b[1;33m.\u001b[0m\u001b[0m_call\u001b[0m\u001b[1;33m(\u001b[0m\u001b[1;33m*\u001b[0m\u001b[0margs\u001b[0m\u001b[1;33m,\u001b[0m \u001b[1;33m**\u001b[0m\u001b[0mkwds\u001b[0m\u001b[1;33m)\u001b[0m\u001b[1;33m\u001b[0m\u001b[1;33m\u001b[0m\u001b[0m\n\u001b[0m\u001b[0;32m    911\u001b[0m \u001b[1;33m\u001b[0m\u001b[0m\n\u001b[0;32m    912\u001b[0m       \u001b[0mnew_tracing_count\u001b[0m \u001b[1;33m=\u001b[0m \u001b[0mself\u001b[0m\u001b[1;33m.\u001b[0m\u001b[0mexperimental_get_tracing_count\u001b[0m\u001b[1;33m(\u001b[0m\u001b[1;33m)\u001b[0m\u001b[1;33m\u001b[0m\u001b[1;33m\u001b[0m\u001b[0m\n",
      "\u001b[1;32m~\\anaconda3\\lib\\site-packages\\tensorflow\\python\\eager\\def_function.py\u001b[0m in \u001b[0;36m_call\u001b[1;34m(self, *args, **kwds)\u001b[0m\n\u001b[0;32m    940\u001b[0m       \u001b[1;31m# In this case we have created variables on the first call, so we run the\u001b[0m\u001b[1;33m\u001b[0m\u001b[1;33m\u001b[0m\u001b[1;33m\u001b[0m\u001b[0m\n\u001b[0;32m    941\u001b[0m       \u001b[1;31m# defunned version which is guaranteed to never create variables.\u001b[0m\u001b[1;33m\u001b[0m\u001b[1;33m\u001b[0m\u001b[1;33m\u001b[0m\u001b[0m\n\u001b[1;32m--> 942\u001b[1;33m       \u001b[1;32mreturn\u001b[0m \u001b[0mself\u001b[0m\u001b[1;33m.\u001b[0m\u001b[0m_stateless_fn\u001b[0m\u001b[1;33m(\u001b[0m\u001b[1;33m*\u001b[0m\u001b[0margs\u001b[0m\u001b[1;33m,\u001b[0m \u001b[1;33m**\u001b[0m\u001b[0mkwds\u001b[0m\u001b[1;33m)\u001b[0m  \u001b[1;31m# pylint: disable=not-callable\u001b[0m\u001b[1;33m\u001b[0m\u001b[1;33m\u001b[0m\u001b[0m\n\u001b[0m\u001b[0;32m    943\u001b[0m     \u001b[1;32melif\u001b[0m \u001b[0mself\u001b[0m\u001b[1;33m.\u001b[0m\u001b[0m_stateful_fn\u001b[0m \u001b[1;32mis\u001b[0m \u001b[1;32mnot\u001b[0m \u001b[1;32mNone\u001b[0m\u001b[1;33m:\u001b[0m\u001b[1;33m\u001b[0m\u001b[1;33m\u001b[0m\u001b[0m\n\u001b[0;32m    944\u001b[0m       \u001b[1;31m# Release the lock early so that multiple threads can perform the call\u001b[0m\u001b[1;33m\u001b[0m\u001b[1;33m\u001b[0m\u001b[1;33m\u001b[0m\u001b[0m\n",
      "\u001b[1;32m~\\anaconda3\\lib\\site-packages\\tensorflow\\python\\eager\\function.py\u001b[0m in \u001b[0;36m__call__\u001b[1;34m(self, *args, **kwargs)\u001b[0m\n\u001b[0;32m   3128\u001b[0m       (graph_function,\n\u001b[0;32m   3129\u001b[0m        filtered_flat_args) = self._maybe_define_function(args, kwargs)\n\u001b[1;32m-> 3130\u001b[1;33m     return graph_function._call_flat(\n\u001b[0m\u001b[0;32m   3131\u001b[0m         filtered_flat_args, captured_inputs=graph_function.captured_inputs)  # pylint: disable=protected-access\n\u001b[0;32m   3132\u001b[0m \u001b[1;33m\u001b[0m\u001b[0m\n",
      "\u001b[1;32m~\\anaconda3\\lib\\site-packages\\tensorflow\\python\\eager\\function.py\u001b[0m in \u001b[0;36m_call_flat\u001b[1;34m(self, args, captured_inputs, cancellation_manager)\u001b[0m\n\u001b[0;32m   1957\u001b[0m         and executing_eagerly):\n\u001b[0;32m   1958\u001b[0m       \u001b[1;31m# No tape is watching; skip to running the function.\u001b[0m\u001b[1;33m\u001b[0m\u001b[1;33m\u001b[0m\u001b[1;33m\u001b[0m\u001b[0m\n\u001b[1;32m-> 1959\u001b[1;33m       return self._build_call_outputs(self._inference_function.call(\n\u001b[0m\u001b[0;32m   1960\u001b[0m           ctx, args, cancellation_manager=cancellation_manager))\n\u001b[0;32m   1961\u001b[0m     forward_backward = self._select_forward_and_backward_functions(\n",
      "\u001b[1;32m~\\anaconda3\\lib\\site-packages\\tensorflow\\python\\eager\\function.py\u001b[0m in \u001b[0;36mcall\u001b[1;34m(self, ctx, args, cancellation_manager)\u001b[0m\n\u001b[0;32m    596\u001b[0m       \u001b[1;32mwith\u001b[0m \u001b[0m_InterpolateFunctionError\u001b[0m\u001b[1;33m(\u001b[0m\u001b[0mself\u001b[0m\u001b[1;33m)\u001b[0m\u001b[1;33m:\u001b[0m\u001b[1;33m\u001b[0m\u001b[1;33m\u001b[0m\u001b[0m\n\u001b[0;32m    597\u001b[0m         \u001b[1;32mif\u001b[0m \u001b[0mcancellation_manager\u001b[0m \u001b[1;32mis\u001b[0m \u001b[1;32mNone\u001b[0m\u001b[1;33m:\u001b[0m\u001b[1;33m\u001b[0m\u001b[1;33m\u001b[0m\u001b[0m\n\u001b[1;32m--> 598\u001b[1;33m           outputs = execute.execute(\n\u001b[0m\u001b[0;32m    599\u001b[0m               \u001b[0mstr\u001b[0m\u001b[1;33m(\u001b[0m\u001b[0mself\u001b[0m\u001b[1;33m.\u001b[0m\u001b[0msignature\u001b[0m\u001b[1;33m.\u001b[0m\u001b[0mname\u001b[0m\u001b[1;33m)\u001b[0m\u001b[1;33m,\u001b[0m\u001b[1;33m\u001b[0m\u001b[1;33m\u001b[0m\u001b[0m\n\u001b[0;32m    600\u001b[0m               \u001b[0mnum_outputs\u001b[0m\u001b[1;33m=\u001b[0m\u001b[0mself\u001b[0m\u001b[1;33m.\u001b[0m\u001b[0m_num_outputs\u001b[0m\u001b[1;33m,\u001b[0m\u001b[1;33m\u001b[0m\u001b[1;33m\u001b[0m\u001b[0m\n",
      "\u001b[1;32m~\\anaconda3\\lib\\site-packages\\tensorflow\\python\\eager\\execute.py\u001b[0m in \u001b[0;36mquick_execute\u001b[1;34m(op_name, num_outputs, inputs, attrs, ctx, name)\u001b[0m\n\u001b[0;32m     56\u001b[0m   \u001b[1;32mtry\u001b[0m\u001b[1;33m:\u001b[0m\u001b[1;33m\u001b[0m\u001b[1;33m\u001b[0m\u001b[0m\n\u001b[0;32m     57\u001b[0m     \u001b[0mctx\u001b[0m\u001b[1;33m.\u001b[0m\u001b[0mensure_initialized\u001b[0m\u001b[1;33m(\u001b[0m\u001b[1;33m)\u001b[0m\u001b[1;33m\u001b[0m\u001b[1;33m\u001b[0m\u001b[0m\n\u001b[1;32m---> 58\u001b[1;33m     tensors = pywrap_tfe.TFE_Py_Execute(ctx._handle, device_name, op_name,\n\u001b[0m\u001b[0;32m     59\u001b[0m                                         inputs, attrs, num_outputs)\n\u001b[0;32m     60\u001b[0m   \u001b[1;32mexcept\u001b[0m \u001b[0mcore\u001b[0m\u001b[1;33m.\u001b[0m\u001b[0m_NotOkStatusException\u001b[0m \u001b[1;32mas\u001b[0m \u001b[0me\u001b[0m\u001b[1;33m:\u001b[0m\u001b[1;33m\u001b[0m\u001b[1;33m\u001b[0m\u001b[0m\n",
      "\u001b[1;31mKeyboardInterrupt\u001b[0m: "
     ]
    }
   ],
   "source": [
    "# history = newModel.fit(X_train, y_train, epochs=30)"
   ]
  },
  {
   "cell_type": "code",
   "execution_count": 25,
   "metadata": {},
   "outputs": [
    {
     "name": "stdout",
     "output_type": "stream",
     "text": [
      "Model: \"sequential_4\"\n",
      "_________________________________________________________________\n",
      " Layer (type)                Output Shape              Param #   \n",
      "=================================================================\n",
      " conv2d_103 (Conv2D)         (None, 198, 198, 200)     5600      \n",
      "                                                                 \n",
      " max_pooling2d_10 (MaxPoolin  (None, 99, 99, 200)      0         \n",
      " g2D)                                                            \n",
      "                                                                 \n",
      " conv2d_104 (Conv2D)         (None, 97, 97, 400)       720400    \n",
      "                                                                 \n",
      " max_pooling2d_11 (MaxPoolin  (None, 48, 48, 400)      0         \n",
      " g2D)                                                            \n",
      "                                                                 \n",
      " conv2d_105 (Conv2D)         (None, 46, 46, 400)       1440400   \n",
      "                                                                 \n",
      " flatten_4 (Flatten)         (None, 846400)            0         \n",
      "                                                                 \n",
      " dense_14 (Dense)            (None, 64)                54169664  \n",
      "                                                                 \n",
      " dense_15 (Dense)            (None, 64)                4160      \n",
      "                                                                 \n",
      " dense_16 (Dense)            (None, 1)                 65        \n",
      "                                                                 \n",
      "=================================================================\n",
      "Total params: 56,340,289\n",
      "Trainable params: 56,340,289\n",
      "Non-trainable params: 0\n",
      "_________________________________________________________________\n"
     ]
    }
   ],
   "source": [
    "from tensorflow.keras import models\n",
    "conmodel = models.Sequential()\n",
    "conmodel.add(layers.Conv2D(200, (3, 3), activation='relu', input_shape=(200, 200, 3)))\n",
    "conmodel.add(layers.MaxPooling2D((2, 2)))\n",
    "conmodel.add(layers.Conv2D(400, (3, 3), activation='relu'))\n",
    "conmodel.add(layers.MaxPooling2D((2, 2)))\n",
    "conmodel.add(layers.Conv2D(400, (3, 3), activation='relu'))\n",
    "conmodel.add(layers.Flatten())\n",
    "conmodel.add(layers.Dense(64, activation='relu'))\n",
    "conmodel.add(layers.Dense(64, activation='relu'))\n",
    "conmodel.add(layers.Dense(1, activation = 'sigmoid'))\n",
    "conmodel.summary()"
   ]
  },
  {
   "cell_type": "code",
   "execution_count": 26,
   "metadata": {},
   "outputs": [],
   "source": [
    "optimizer = tf.keras.optimizers.Adam(epsilon=0.01)\n",
    "conmodel.compile(\n",
    "    optimizer=optimizer,\n",
    "    loss = 'binary_crossentropy',\n",
    "    metrics=['binary_accuracy'],\n",
    ")"
   ]
  },
  {
   "cell_type": "code",
   "execution_count": 27,
   "metadata": {},
   "outputs": [
    {
     "name": "stdout",
     "output_type": "stream",
     "text": [
      "Epoch 1/30\n",
      "5/5 [==============================] - 19s 4s/step - loss: 0.6930 - binary_accuracy: 0.5364\n",
      "Epoch 2/30\n",
      "5/5 [==============================] - 19s 4s/step - loss: 0.6925 - binary_accuracy: 0.6026\n",
      "Epoch 3/30\n",
      "5/5 [==============================] - 19s 4s/step - loss: 0.6917 - binary_accuracy: 0.6026\n",
      "Epoch 4/30\n",
      "5/5 [==============================] - 19s 4s/step - loss: 0.6907 - binary_accuracy: 0.6026\n",
      "Epoch 5/30\n",
      "5/5 [==============================] - 19s 4s/step - loss: 0.6898 - binary_accuracy: 0.6026\n",
      "Epoch 6/30\n",
      "5/5 [==============================] - 19s 4s/step - loss: 0.6886 - binary_accuracy: 0.6026\n",
      "Epoch 7/30\n",
      "5/5 [==============================] - 19s 4s/step - loss: 0.6878 - binary_accuracy: 0.6026\n",
      "Epoch 8/30\n",
      "5/5 [==============================] - 19s 4s/step - loss: 0.6863 - binary_accuracy: 0.6026\n",
      "Epoch 9/30\n",
      "5/5 [==============================] - 19s 4s/step - loss: 0.6848 - binary_accuracy: 0.6026\n",
      "Epoch 10/30\n",
      "5/5 [==============================] - 20s 4s/step - loss: 0.6835 - binary_accuracy: 0.6026\n",
      "Epoch 11/30\n",
      "5/5 [==============================] - 19s 4s/step - loss: 0.6822 - binary_accuracy: 0.6026\n",
      "Epoch 12/30\n",
      "5/5 [==============================] - 19s 4s/step - loss: 0.6803 - binary_accuracy: 0.6026\n",
      "Epoch 13/30\n",
      "5/5 [==============================] - 19s 4s/step - loss: 0.6787 - binary_accuracy: 0.6026\n",
      "Epoch 14/30\n",
      "5/5 [==============================] - 19s 4s/step - loss: 0.6765 - binary_accuracy: 0.6026\n",
      "Epoch 15/30\n",
      "5/5 [==============================] - 20s 4s/step - loss: 0.6747 - binary_accuracy: 0.6026\n",
      "Epoch 16/30\n",
      "5/5 [==============================] - 19s 4s/step - loss: 0.6733 - binary_accuracy: 0.6026\n",
      "Epoch 17/30\n",
      "5/5 [==============================] - 19s 4s/step - loss: 0.6726 - binary_accuracy: 0.6026\n",
      "Epoch 18/30\n",
      "5/5 [==============================] - 20s 4s/step - loss: 0.6727 - binary_accuracy: 0.6026\n",
      "Epoch 19/30\n",
      "5/5 [==============================] - 19s 4s/step - loss: 0.6719 - binary_accuracy: 0.6026\n",
      "Epoch 20/30\n",
      "5/5 [==============================] - 19s 4s/step - loss: 0.6721 - binary_accuracy: 0.6026\n",
      "Epoch 21/30\n",
      "5/5 [==============================] - 19s 4s/step - loss: 0.6717 - binary_accuracy: 0.6026\n",
      "Epoch 22/30\n",
      "5/5 [==============================] - 19s 4s/step - loss: 0.6721 - binary_accuracy: 0.6026\n",
      "Epoch 23/30\n",
      "5/5 [==============================] - 19s 4s/step - loss: 0.6719 - binary_accuracy: 0.6026\n",
      "Epoch 24/30\n",
      "5/5 [==============================] - 19s 4s/step - loss: 0.6720 - binary_accuracy: 0.6026\n",
      "Epoch 25/30\n",
      "5/5 [==============================] - 19s 4s/step - loss: 0.6719 - binary_accuracy: 0.6026\n",
      "Epoch 26/30\n",
      "5/5 [==============================] - 19s 4s/step - loss: 0.6722 - binary_accuracy: 0.6026\n",
      "Epoch 27/30\n",
      "5/5 [==============================] - 19s 4s/step - loss: 0.6718 - binary_accuracy: 0.6026\n",
      "Epoch 28/30\n",
      "5/5 [==============================] - 19s 4s/step - loss: 0.6718 - binary_accuracy: 0.6026\n",
      "Epoch 29/30\n",
      "5/5 [==============================] - 19s 4s/step - loss: 0.6723 - binary_accuracy: 0.6026\n",
      "Epoch 30/30\n",
      "5/5 [==============================] - 19s 4s/step - loss: 0.6720 - binary_accuracy: 0.6026\n"
     ]
    }
   ],
   "source": [
    "history = conmodel.fit(X_train, y_train, epochs=30)"
   ]
  },
  {
   "cell_type": "code",
   "execution_count": 28,
   "metadata": {},
   "outputs": [
    {
     "name": "stdout",
     "output_type": "stream",
     "text": [
      "1/1 [==============================] - 1s 945ms/step - loss: 0.7240 - binary_accuracy: 0.4815\n"
     ]
    },
    {
     "data": {
      "text/plain": [
       "[0.7240467071533203, 0.48148149251937866]"
      ]
     },
     "execution_count": 28,
     "metadata": {},
     "output_type": "execute_result"
    }
   ],
   "source": [
    "conmodel.evaluate(X_test, y_test)"
   ]
  },
  {
   "cell_type": "code",
   "execution_count": null,
   "metadata": {},
   "outputs": [],
   "source": []
  }
 ],
 "metadata": {
  "colab": {
   "collapsed_sections": [],
   "name": "ImagePrep.ipynb",
   "provenance": []
  },
  "kernelspec": {
   "display_name": "Python 3",
   "language": "python",
   "name": "python3"
  },
  "language_info": {
   "codemirror_mode": {
    "name": "ipython",
    "version": 3
   },
   "file_extension": ".py",
   "mimetype": "text/x-python",
   "name": "python",
   "nbconvert_exporter": "python",
   "pygments_lexer": "ipython3",
   "version": "3.8.5"
  }
 },
 "nbformat": 4,
 "nbformat_minor": 4
}
